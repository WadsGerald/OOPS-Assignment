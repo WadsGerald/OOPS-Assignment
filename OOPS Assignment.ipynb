{
 "cells": [
  {
   "cell_type": "raw",
   "id": "b9c7e8bd-523d-481d-942b-8405bc8a6ed4",
   "metadata": {},
   "source": [
    "1. What is Object-Oriented Programming (OOP)?\n",
    "\n",
    "Object-Oriented Programming (OOP) is a programming paradigm based on the concept of objects, which contain data and methods. It emphasizes principles like encapsulation, inheritance, polymorphism, and abstraction to structure programs efficiently."
   ]
  },
  {
   "cell_type": "raw",
   "id": "e3f6d010-1414-4472-a1da-8a49fe3a6464",
   "metadata": {},
   "source": [
    "2. What is a class in OOP?\n",
    "\n",
    "A class is a blueprint or template for creating objects. It defines attributes and methods that objects of the class will have."
   ]
  },
  {
   "cell_type": "raw",
   "id": "0d0cc7fd-aec3-4a06-8b31-114b5b29b754",
   "metadata": {},
   "source": [
    "3. What is an object in OOP?\n",
    "An object is an instance of a class. It has a unique identity, state, and behavior."
   ]
  },
  {
   "cell_type": "raw",
   "id": "4d8970d5-46ac-4987-90b5-242c00850f4c",
   "metadata": {},
   "source": [
    "4. What is the difference between abstraction and encapsulation?\n",
    "Abstraction is the process of hiding implementation details and exposing only the necessary functionality.\n",
    "Encapsulation is the concept of wrapping data and methods together within a class and restricting direct access to the data."
   ]
  },
  {
   "cell_type": "raw",
   "id": "03f26e08-99fe-4dca-84cd-90e477d99b14",
   "metadata": {},
   "source": [
    "5. What are dunder methods in Python?\n",
    "Dunder methods are special methods in Python that start and end with double underscores (e.g., __init__, __str__, __add__). They allow built-in functionalities like object initialization, string representation, and operator overloading."
   ]
  },
  {
   "cell_type": "raw",
   "id": "d9bdea21-1a8b-4834-8e20-9765af3bbe17",
   "metadata": {},
   "source": [
    "6. Explain the concept of inheritance in OOP.\n",
    "Inheritance allows a class (child class) to derive properties and behaviors from another class (parent class). It promotes code reuse and hierarchical relationships."
   ]
  },
  {
   "cell_type": "raw",
   "id": "037b6fa6-66b0-4e63-abfa-d55c61e10387",
   "metadata": {},
   "source": [
    "7. What is polymorphism in OOP?\n",
    "Polymorphism allows the same function or method to have different implementations based on the object calling it. It can be achieved through method overriding and method overloading."
   ]
  },
  {
   "cell_type": "raw",
   "id": "351bf50d-a1f3-4285-9b03-a81ee1adde91",
   "metadata": {},
   "source": [
    "8. How is encapsulation achieved in Python?\n",
    "Encapsulation in Python is achieved using access specifiers:\n",
    "\n",
    "Public members (accessible from anywhere)\n",
    "Protected members (prefix _ to indicate internal use)\n",
    "Private members (prefix __ to restrict access within the class)"
   ]
  },
  {
   "cell_type": "raw",
   "id": "4b5f8ed5-34db-4756-9c4e-e90f1975fffa",
   "metadata": {},
   "source": [
    "9. What is a constructor in Python?\n",
    "A constructor is a special method (__init__) in a class that gets executed when an object is instantiated. It is used to initialize object attributes."
   ]
  },
  {
   "cell_type": "raw",
   "id": "1e7e774f-8f7c-48a4-ac69-ce647a60fed2",
   "metadata": {},
   "source": [
    "10. What are class and static methods in Python?\n",
    "Class methods (@classmethod) operate on the class level and take cls as their first parameter.\n",
    "Static methods (@staticmethod) do not depend on class attributes or instance attributes."
   ]
  },
  {
   "cell_type": "raw",
   "id": "3fd1c63b-74c7-499e-b4ba-52e3135e0c6d",
   "metadata": {},
   "source": [
    "11. What is method overloading in Python?\n",
    "Method overloading refers to defining multiple methods with the same name but different parameters. Python does not support true method overloading, but it can be implemented using default arguments or variable-length arguments (*args)."
   ]
  },
  {
   "cell_type": "raw",
   "id": "65f033da-7705-4faf-af55-fc89b904ca95",
   "metadata": {},
   "source": [
    "12. What is method overriding in OOP?\n",
    "Method overriding occurs when a child class provides a specific implementation of a method already defined in its parent class. The child class method overrides the parent class method."
   ]
  },
  {
   "cell_type": "raw",
   "id": "0eed3fb2-ae61-4f3a-bb51-5118779f2196",
   "metadata": {},
   "source": [
    "13. What is a property decorator in Python?\n",
    "The @property decorator in Python is used to define getter, setter, and deleter methods, making a method behave like an attribute."
   ]
  },
  {
   "cell_type": "raw",
   "id": "1449aeb3-b2c1-4cce-961f-5eb3b8faca16",
   "metadata": {},
   "source": [
    "14. Why is polymorphism important in OOP?\n",
    "Polymorphism increases flexibility and maintainability by allowing different classes to be used interchangeably through a common interface."
   ]
  },
  {
   "cell_type": "raw",
   "id": "b5e2201f-7484-4b42-8003-2e8ed6800277",
   "metadata": {},
   "source": [
    "15. What is an abstract class in Python?\n",
    "An abstract class is a class that cannot be instantiated directly and must have at least one abstract method. It is defined using the ABC module and @abstractmethod decorator."
   ]
  },
  {
   "cell_type": "raw",
   "id": "268280f4-5332-4016-bd8c-a37f40388bbc",
   "metadata": {},
   "source": [
    "16. What are the advantages of OOP?\n",
    "Code reusability (through inheritance)\n",
    "Encapsulation (data security)\n",
    "Abstraction (hiding implementation details)\n",
    "Polymorphism (flexibility in code execution)\n",
    "Scalability and modularity"
   ]
  },
  {
   "cell_type": "raw",
   "id": "d45b8222-d751-4fd7-bf87-e172ac700250",
   "metadata": {},
   "source": [
    "17. What is the difference between a class variable and an instance variable?\n",
    "Class variable: Shared across all instances of the class. Defined inside the class but outside any method.\n",
    "Instance variable: Unique to each object and defined inside methods using self."
   ]
  },
  {
   "cell_type": "raw",
   "id": "e86dfd86-1863-47e5-a098-72690e4a3d75",
   "metadata": {},
   "source": [
    "18. What is multiple inheritance in Python?\n",
    "Multiple inheritance allows a class to inherit from more than one parent class"
   ]
  },
  {
   "cell_type": "raw",
   "id": "c68eeda3-60b3-4ea4-928f-f366ec68ad8d",
   "metadata": {},
   "source": [
    "19. Explain the purpose of __str__ and __repr__ methods in Python.\n",
    "__str__: Returns a user-friendly string representation of an object.\n",
    "__repr__: Returns a string representation useful for debugging, ideally evaluating to a valid Python expression."
   ]
  },
  {
   "cell_type": "raw",
   "id": "58d5a7cf-817b-451c-ab32-ec7fd25958ea",
   "metadata": {},
   "source": [
    "20. What is the significance of the super() function in Python?\n",
    "The super() function allows a child class to call methods from its parent class, avoiding redundant code and supporting multiple inheritance."
   ]
  },
  {
   "cell_type": "raw",
   "id": "02171fc3-7761-412b-a700-b45c54d62d59",
   "metadata": {},
   "source": [
    "21. What is the significance of the __del__ method in Python?\n",
    "The __del__ method is the destructor in Python. It is called when an object is about to be destroyed to perform cleanup operations."
   ]
  },
  {
   "cell_type": "raw",
   "id": "84866c83-8c30-494b-90af-079da5032034",
   "metadata": {},
   "source": [
    "22. What is the difference between @staticmethod and @classmethod in Python?\n",
    "@staticmethod does not access instance or class attributes.\n",
    "@classmethod operates on the class and takes cls as its first parameter."
   ]
  },
  {
   "cell_type": "raw",
   "id": "2e6cfcbf-fadd-4feb-8df4-cd6b9a144d06",
   "metadata": {},
   "source": [
    "23. How does polymorphism work in Python with inheritance?\n",
    "Polymorphism in Python works through method overriding, where a child class redefines a method from the parent class with a different implementation."
   ]
  },
  {
   "cell_type": "raw",
   "id": "95fe2331-af78-4791-917c-930368f01838",
   "metadata": {},
   "source": [
    "24. What is method chaining in Python OOP?\n",
    "Method chaining allows multiple method calls on the same object in a single statement by returning self in each method."
   ]
  },
  {
   "cell_type": "raw",
   "id": "031f2a3c-fce4-49f8-ab47-108156feb674",
   "metadata": {},
   "source": [
    "25. What is the purpose of the __call__ method in Python?\n",
    "The __call__ method allows an instance of a class to be called like a function. "
   ]
  },
  {
   "cell_type": "code",
   "execution_count": null,
   "id": "29b7fb1a-3cbf-4767-80d1-c2a4602ccd2a",
   "metadata": {},
   "outputs": [],
   "source": []
  },
  {
   "cell_type": "code",
   "execution_count": null,
   "id": "10113974-e99b-44a1-b459-9812c8d52357",
   "metadata": {},
   "outputs": [],
   "source": []
  },
  {
   "cell_type": "raw",
   "id": "7fbaed04-2927-49b1-b8a8-ef8b84144b31",
   "metadata": {},
   "source": [
    "PRACTICAL QUESTIONS"
   ]
  },
  {
   "cell_type": "raw",
   "id": "72178091-b7ac-44e9-912d-a32f62b8c505",
   "metadata": {},
   "source": [
    "1. Create a parent class Animal with a method speak() that prints a generic message. Create a child class Dog that overrides the speak() method to print \"Bark!\"."
   ]
  },
  {
   "cell_type": "code",
   "execution_count": 1,
   "id": "0a19426c-69f0-4e11-8972-5ca357e62ef2",
   "metadata": {},
   "outputs": [
    {
     "name": "stdout",
     "output_type": "stream",
     "text": [
      "Bark!\n"
     ]
    }
   ],
   "source": [
    "class Animal:\n",
    "    def speak(self):\n",
    "        print(\"This animal makes a sound.\")\n",
    "\n",
    "class Dog(Animal):\n",
    "    def speak(self):\n",
    "        print(\"Bark!\")\n",
    "\n",
    "\n",
    "dog = Dog()\n",
    "dog.speak()  \n"
   ]
  },
  {
   "cell_type": "raw",
   "id": "a312f971-655f-469e-94b6-5829aec76a12",
   "metadata": {},
   "source": [
    "2. Write a program to create an abstract class Shape with a method area(). Derive classes Circle and Rectangle from it and implement the area() method in both."
   ]
  },
  {
   "cell_type": "code",
   "execution_count": 3,
   "id": "d706f092-edf6-4071-9aa6-d10182c15d32",
   "metadata": {},
   "outputs": [
    {
     "name": "stdout",
     "output_type": "stream",
     "text": [
      "78.53981633974483\n",
      "24\n"
     ]
    }
   ],
   "source": [
    "from abc import ABC, abstractmethod\n",
    "import math\n",
    "\n",
    "class Shape(ABC):\n",
    "    @abstractmethod\n",
    "    def area(self):\n",
    "        pass\n",
    "\n",
    "class Circle(Shape):\n",
    "    def __init__(self, radius):\n",
    "        self.radius = radius\n",
    "\n",
    "    def area(self):\n",
    "        return math.pi * self.radius ** 2\n",
    "\n",
    "class Rectangle(Shape):\n",
    "    def __init__(self, width, height):\n",
    "        self.width = width\n",
    "        self.height = height\n",
    "\n",
    "    def area(self):\n",
    "        return self.width * self.height\n",
    "\n",
    "\n",
    "circle = Circle(5)\n",
    "rectangle = Rectangle(4, 6)\n",
    "print(circle.area())     \n",
    "print(rectangle.area())  \n"
   ]
  },
  {
   "cell_type": "raw",
   "id": "01b5a8ba-3d06-44e9-9449-f14442acd992",
   "metadata": {},
   "source": [
    "3. Implement a multi-level inheritance scenario where a class Vehicle has an attribute type. Derive a class Car and further derive a class ElectricCar that adds a battery attribute."
   ]
  },
  {
   "cell_type": "code",
   "execution_count": 5,
   "id": "f7c3b25c-7f9a-4233-9d55-9c621eb67273",
   "metadata": {},
   "outputs": [
    {
     "name": "stdout",
     "output_type": "stream",
     "text": [
      "Sedan Tesla 100 kWh\n"
     ]
    }
   ],
   "source": [
    "class Vehicle:\n",
    "    def __init__(self, type):\n",
    "        self.type = type\n",
    "\n",
    "class Car(Vehicle):\n",
    "    def __init__(self, type, brand):\n",
    "        super().__init__(type)\n",
    "        self.brand = brand\n",
    "\n",
    "class ElectricCar(Car):\n",
    "    def __init__(self, type, brand, battery):\n",
    "        super().__init__(type, brand)\n",
    "        self.battery = battery\n",
    "\n",
    "\n",
    "tesla = ElectricCar(\"Sedan\", \"Tesla\", \"100 kWh\")\n",
    "print(tesla.type, tesla.brand, tesla.battery)  \n"
   ]
  },
  {
   "cell_type": "raw",
   "id": "70c7f1a6-eb4a-45c0-8068-19f1da6c6e4d",
   "metadata": {},
   "source": [
    "4. Demonstrate polymorphism by creating a base class Bird with a method fly(). Create two derived classes Sparrow and Penguin that override the fly() method."
   ]
  },
  {
   "cell_type": "code",
   "execution_count": 7,
   "id": "25f5c9ba-7259-47e8-9697-f85ae1990142",
   "metadata": {},
   "outputs": [
    {
     "name": "stdout",
     "output_type": "stream",
     "text": [
      "Sparrow flies high.\n",
      "Penguins cannot fly.\n"
     ]
    }
   ],
   "source": [
    "class Bird:\n",
    "    def fly(self):\n",
    "        print(\"This bird can fly.\")\n",
    "\n",
    "class Sparrow(Bird):\n",
    "    def fly(self):\n",
    "        print(\"Sparrow flies high.\")\n",
    "\n",
    "class Penguin(Bird):\n",
    "    def fly(self):\n",
    "        print(\"Penguins cannot fly.\")\n",
    "\n",
    "\n",
    "birds = [Sparrow(), Penguin()]\n",
    "for bird in birds:\n",
    "    bird.fly()\n"
   ]
  },
  {
   "cell_type": "raw",
   "id": "899b9ad5-4c2a-46ca-9bd3-cc01d99ac48a",
   "metadata": {},
   "source": [
    "5. Write a program to demonstrate encapsulation by creating a class BankAccount with private attributes balance and methods to deposit, withdraw, and check balance."
   ]
  },
  {
   "cell_type": "code",
   "execution_count": 9,
   "id": "22f11a13-d1ec-4b3a-83cd-2762a3fdc215",
   "metadata": {},
   "outputs": [
    {
     "name": "stdout",
     "output_type": "stream",
     "text": [
      "1300\n"
     ]
    }
   ],
   "source": [
    "class BankAccount:\n",
    "    def __init__(self, initial_balance=0):\n",
    "        self.__balance = initial_balance\n",
    "\n",
    "    def deposit(self, amount):\n",
    "        self.__balance += amount\n",
    "\n",
    "    def withdraw(self, amount):\n",
    "        if amount > self.__balance:\n",
    "            print(\"Insufficient balance.\")\n",
    "        else:\n",
    "            self.__balance -= amount\n",
    "\n",
    "    def check_balance(self):\n",
    "        return self.__balance\n",
    "\n",
    "\n",
    "account = BankAccount(1000)\n",
    "account.deposit(500)\n",
    "account.withdraw(200)\n",
    "print(account.check_balance())  \n"
   ]
  },
  {
   "cell_type": "raw",
   "id": "7e479a34-c34c-44dc-b285-5d64fee78281",
   "metadata": {},
   "source": [
    "6. Demonstrate runtime polymorphism using a method play() in a base class Instrument. Derive classes Guitar and Piano that implement their own version of play()."
   ]
  },
  {
   "cell_type": "code",
   "execution_count": null,
   "id": "1ab25a4b-aa69-4c1d-8672-67d289ae82eb",
   "metadata": {},
   "outputs": [],
   "source": [
    "class Instrument:\n",
    "    def play(self):\n",
    "        print(\"Playing an instrument.\")\n",
    "\n",
    "class Guitar(Instrument):\n",
    "    def play(self):\n",
    "        print(\"Strumming the guitar.\")\n",
    "\n",
    "class Piano(Instrument):\n",
    "    def play(self):\n",
    "        print(\"Playing the piano.\")\n",
    "\n",
    "\n",
    "instruments = [Guitar(), Piano()]\n",
    "for instrument in instruments:\n",
    "    instrument.play()\n"
   ]
  },
  {
   "cell_type": "raw",
   "id": "c21c5712-3c5c-4bad-bd4e-f67607f65cea",
   "metadata": {},
   "source": [
    "7. Create a class MathOperations with a class method add_numbers() to add two numbers and a static method subtract_numbers() to subtract two numbers."
   ]
  },
  {
   "cell_type": "code",
   "execution_count": 11,
   "id": "dc67346b-4fde-46bc-acc7-ea153d3bcb42",
   "metadata": {},
   "outputs": [
    {
     "name": "stdout",
     "output_type": "stream",
     "text": [
      "15\n",
      "5\n"
     ]
    }
   ],
   "source": [
    "class MathOperations:\n",
    "    @classmethod\n",
    "    def add_numbers(cls, a, b):\n",
    "        return a + b\n",
    "\n",
    "    @staticmethod\n",
    "    def subtract_numbers(a, b):\n",
    "        return a - b\n",
    "\n",
    "\n",
    "print(MathOperations.add_numbers(10, 5))  \n",
    "print(MathOperations.subtract_numbers(10, 5)) \n"
   ]
  },
  {
   "cell_type": "raw",
   "id": "e02cfa77-f3c9-4954-a741-cfd73d147ca9",
   "metadata": {},
   "source": [
    "8. Implement a class Person with a class method to count the total number of persons created."
   ]
  },
  {
   "cell_type": "code",
   "execution_count": 13,
   "id": "b12a2ac8-fb0c-4169-a17c-5ee6e708bc04",
   "metadata": {},
   "outputs": [
    {
     "name": "stdout",
     "output_type": "stream",
     "text": [
      "2\n"
     ]
    }
   ],
   "source": [
    "class Person:\n",
    "    count = 0\n",
    "\n",
    "    def __init__(self, name):\n",
    "        self.name = name\n",
    "        Person.count += 1\n",
    "\n",
    "    @classmethod\n",
    "    def get_count(cls):\n",
    "        return cls.count\n",
    "\n",
    "\n",
    "p1 = Person(\"Alice\")\n",
    "p2 = Person(\"Bob\")\n",
    "print(Person.get_count())  \n"
   ]
  },
  {
   "cell_type": "raw",
   "id": "73110a87-973c-44c4-a93d-533a3dc71244",
   "metadata": {},
   "source": [
    "9. Write a class Fraction with attributes numerator and denominator. Override the __str__ method to display the fraction as \"numerator/denominator\"."
   ]
  },
  {
   "cell_type": "code",
   "execution_count": 15,
   "id": "3dd1b324-3a9c-43ba-af92-fdad6e73375c",
   "metadata": {},
   "outputs": [
    {
     "name": "stdout",
     "output_type": "stream",
     "text": [
      "3/4\n"
     ]
    }
   ],
   "source": [
    "class Fraction:\n",
    "    def __init__(self, numerator, denominator):\n",
    "        self.numerator = numerator\n",
    "        self.denominator = denominator\n",
    "\n",
    "    def __str__(self):\n",
    "        return f\"{self.numerator}/{self.denominator}\"\n",
    "\n",
    "\n",
    "frac = Fraction(3, 4)\n",
    "print(frac) \n"
   ]
  },
  {
   "cell_type": "raw",
   "id": "0f7bd6a1-4f69-4895-98a5-eb915ff0b82b",
   "metadata": {},
   "source": [
    "10. Demonstrate operator overloading by creating a class Vector and overriding the + operator to add two vectors."
   ]
  },
  {
   "cell_type": "code",
   "execution_count": 17,
   "id": "3074adb1-c6b4-4f52-a1bd-122ddc81c05e",
   "metadata": {},
   "outputs": [
    {
     "name": "stdout",
     "output_type": "stream",
     "text": [
      "(6, 8)\n"
     ]
    }
   ],
   "source": [
    "class Vector:\n",
    "    def __init__(self, x, y):\n",
    "        self.x = x\n",
    "        self.y = y\n",
    "\n",
    "    def __add__(self, other):\n",
    "        return Vector(self.x + other.x, self.y + other.y)\n",
    "\n",
    "    def __str__(self):\n",
    "        return f\"({self.x}, {self.y})\"\n",
    "\n",
    "\n",
    "v1 = Vector(2, 3)\n",
    "v2 = Vector(4, 5)\n",
    "v3 = v1 + v2\n",
    "print(v3)  \n"
   ]
  },
  {
   "cell_type": "raw",
   "id": "8fe0f755-6c16-4a98-9611-f2af069bfdea",
   "metadata": {},
   "source": [
    "11. Create a class Person with attributes name and age. Add a method greet() that prints \"Hello, my name is {name} and I am {age} years old.\""
   ]
  },
  {
   "cell_type": "code",
   "execution_count": 19,
   "id": "6d9373e6-7ea3-4371-8af7-d4e3cd8ef678",
   "metadata": {},
   "outputs": [
    {
     "name": "stdout",
     "output_type": "stream",
     "text": [
      "Hello, my name is Alice and I am 25 years old.\n"
     ]
    }
   ],
   "source": [
    "class Person:\n",
    "    def __init__(self, name, age):\n",
    "        self.name = name\n",
    "        self.age = age\n",
    "\n",
    "    def greet(self):\n",
    "        print(f\"Hello, my name is {self.name} and I am {self.age} years old.\")\n",
    "\n",
    "\n",
    "p = Person(\"Alice\", 25)\n",
    "p.greet()  \n"
   ]
  },
  {
   "cell_type": "raw",
   "id": "f95e723e-1167-4f8e-8a58-da386a130014",
   "metadata": {},
   "source": [
    "12. Implement a class Student with attributes name and grades. Create a method average_grade() to compute the average of the grades."
   ]
  },
  {
   "cell_type": "code",
   "execution_count": 21,
   "id": "87218606-dc4b-478a-9e92-c76293d5d898",
   "metadata": {},
   "outputs": [
    {
     "name": "stdout",
     "output_type": "stream",
     "text": [
      "84.33333333333333\n"
     ]
    }
   ],
   "source": [
    "class Student:\n",
    "    def __init__(self, name, grades):\n",
    "        self.name = name\n",
    "        self.grades = grades\n",
    "\n",
    "    def average_grade(self):\n",
    "        return sum(self.grades) / len(self.grades) if self.grades else 0\n",
    "\n",
    "\n",
    "s = Student(\"Bob\", [85, 90, 78])\n",
    "print(s.average_grade())  \n"
   ]
  },
  {
   "cell_type": "raw",
   "id": "e1326089-45ed-4a73-84b9-e9cce1661765",
   "metadata": {},
   "source": [
    "13. Create a class Rectangle with methods set_dimensions() to set the dimensions and area() to calculate the area."
   ]
  },
  {
   "cell_type": "code",
   "execution_count": 23,
   "id": "06cc2a5a-0f51-4d52-ab58-3e0bb70738d4",
   "metadata": {},
   "outputs": [
    {
     "name": "stdout",
     "output_type": "stream",
     "text": [
      "20\n"
     ]
    }
   ],
   "source": [
    "class Rectangle:\n",
    "    def set_dimensions(self, width, height):\n",
    "        self.width = width\n",
    "        self.height = height\n",
    "\n",
    "    def area(self):\n",
    "        return self.width * self.height\n",
    "\n",
    "\n",
    "r = Rectangle()\n",
    "r.set_dimensions(4, 5)\n",
    "print(r.area()) \n"
   ]
  },
  {
   "cell_type": "raw",
   "id": "2bac2689-0bbd-48ed-ac8c-21ed21a20c7d",
   "metadata": {},
   "source": [
    "14. Create a class Employee with a method calculate_salary() that computes the salary based on hours worked and hourly rate. Create a derived class Manager that adds a bonus to the salary."
   ]
  },
  {
   "cell_type": "code",
   "execution_count": 25,
   "id": "cdf11950-3256-4a20-9373-03f0b64eeda9",
   "metadata": {},
   "outputs": [
    {
     "name": "stdout",
     "output_type": "stream",
     "text": [
      "800\n",
      "1300\n"
     ]
    }
   ],
   "source": [
    "class Employee:\n",
    "    def __init__(self, hours_worked, hourly_rate):\n",
    "        self.hours_worked = hours_worked\n",
    "        self.hourly_rate = hourly_rate\n",
    "\n",
    "    def calculate_salary(self):\n",
    "        return self.hours_worked * self.hourly_rate\n",
    "\n",
    "class Manager(Employee):\n",
    "    def __init__(self, hours_worked, hourly_rate, bonus):\n",
    "        super().__init__(hours_worked, hourly_rate)\n",
    "        self.bonus = bonus\n",
    "\n",
    "    def calculate_salary(self):\n",
    "        return super().calculate_salary() + self.bonus\n",
    "\n",
    "\n",
    "e = Employee(40, 20)\n",
    "m = Manager(40, 20, 500)\n",
    "\n",
    "print(e.calculate_salary()) \n",
    "print(m.calculate_salary())  \n"
   ]
  },
  {
   "cell_type": "raw",
   "id": "d4cbdfee-ee10-43aa-aeda-fbb719a5ca03",
   "metadata": {},
   "source": [
    "15. Create a class Product with attributes name, price, and quantity. Implement a method total_price() that calculates the total price of the product."
   ]
  },
  {
   "cell_type": "code",
   "execution_count": 29,
   "id": "a02220dd-ce20-46b5-bc2a-4971bfb3c4a3",
   "metadata": {},
   "outputs": [
    {
     "name": "stdout",
     "output_type": "stream",
     "text": [
      "3000\n"
     ]
    }
   ],
   "source": [
    "class Product:\n",
    "    def __init__(self, name, price, quantity):\n",
    "        self.name = name\n",
    "        self.price = price\n",
    "        self.quantity = quantity\n",
    "\n",
    "    def total_price(self):\n",
    "        return self.price * self.quantity\n",
    "\n",
    "\n",
    "p = Product(\"Laptop\", 1000, 3)\n",
    "print(p.total_price())  \n"
   ]
  },
  {
   "cell_type": "raw",
   "id": "6a899ad0-fba5-486f-8175-5ed4b772851b",
   "metadata": {},
   "source": [
    "16. Create a class Animal with an abstract method sound(). Create two derived classes Cow and Sheep that implement the sound() method."
   ]
  },
  {
   "cell_type": "code",
   "execution_count": 27,
   "id": "ad41638d-c10a-4535-b7a5-08624e139f00",
   "metadata": {},
   "outputs": [
    {
     "name": "stdout",
     "output_type": "stream",
     "text": [
      "Moo!\n",
      "Baa!\n"
     ]
    }
   ],
   "source": [
    "from abc import ABC, abstractmethod\n",
    "\n",
    "class Animal(ABC):\n",
    "    @abstractmethod\n",
    "    def sound(self):\n",
    "        pass\n",
    "\n",
    "class Cow(Animal):\n",
    "    def sound(self):\n",
    "        return \"Moo!\"\n",
    "\n",
    "class Sheep(Animal):\n",
    "    def sound(self):\n",
    "        return \"Baa!\"\n",
    "\n",
    "\n",
    "cow = Cow()\n",
    "sheep = Sheep()\n",
    "print(cow.sound())   \n",
    "print(sheep.sound())\n"
   ]
  },
  {
   "cell_type": "raw",
   "id": "9e9b623e-06b3-48e8-96cf-89e7c5c1178e",
   "metadata": {},
   "source": [
    "17. Create a class Book with attributes title, author, and year_published. Add a method get_book_info() that returns a formatted string with the book's details."
   ]
  },
  {
   "cell_type": "code",
   "execution_count": 31,
   "id": "3e8d6c55-da67-4862-9a2f-432aaf3549a4",
   "metadata": {},
   "outputs": [
    {
     "name": "stdout",
     "output_type": "stream",
     "text": [
      "'The Catcher in the Rye' by J.D. Salinger, published in 1951\n"
     ]
    }
   ],
   "source": [
    "class Book:\n",
    "    def __init__(self, title, author, year_published):\n",
    "        self.title = title\n",
    "        self.author = author\n",
    "        self.year_published = year_published\n",
    "\n",
    "    def get_book_info(self):\n",
    "        return f\"'{self.title}' by {self.author}, published in {self.year_published}\"\n",
    "\n",
    "\n",
    "book = Book(\"The Catcher in the Rye\", \"J.D. Salinger\", 1951)\n",
    "print(book.get_book_info()) \n"
   ]
  },
  {
   "cell_type": "raw",
   "id": "f02bfafb-7339-458e-b706-01e2e2617f55",
   "metadata": {},
   "source": [
    "18. Create a class House with attributes address and price. Create a derived class Mansion that adds an attribute number_of_rooms."
   ]
  },
  {
   "cell_type": "code",
   "execution_count": 33,
   "id": "4b9be653-268f-4c1c-b006-78f793435854",
   "metadata": {},
   "outputs": [
    {
     "name": "stdout",
     "output_type": "stream",
     "text": [
      "123 Luxury St 5000000 15\n"
     ]
    }
   ],
   "source": [
    "class House:\n",
    "    def __init__(self, address, price):\n",
    "        self.address = address\n",
    "        self.price = price\n",
    "\n",
    "class Mansion(House):\n",
    "    def __init__(self, address, price, number_of_rooms):\n",
    "        super().__init__(address, price)\n",
    "        self.number_of_rooms = number_of_rooms\n",
    "\n",
    "\n",
    "mansion = Mansion(\"123 Luxury St\", 5000000, 15)\n",
    "print(mansion.address, mansion.price, mansion.number_of_rooms)\n",
    "\n"
   ]
  },
  {
   "cell_type": "code",
   "execution_count": null,
   "id": "814d9502-42e8-44bd-a1fe-d7fbf131595f",
   "metadata": {},
   "outputs": [],
   "source": []
  },
  {
   "cell_type": "code",
   "execution_count": null,
   "id": "fe37ea5c-7f0e-4cd0-9e9e-2b9b5c1308b8",
   "metadata": {},
   "outputs": [],
   "source": []
  }
 ],
 "metadata": {
  "kernelspec": {
   "display_name": "Python 3 (ipykernel)",
   "language": "python",
   "name": "python3"
  },
  "language_info": {
   "codemirror_mode": {
    "name": "ipython",
    "version": 3
   },
   "file_extension": ".py",
   "mimetype": "text/x-python",
   "name": "python",
   "nbconvert_exporter": "python",
   "pygments_lexer": "ipython3",
   "version": "3.12.7"
  }
 },
 "nbformat": 4,
 "nbformat_minor": 5
}
